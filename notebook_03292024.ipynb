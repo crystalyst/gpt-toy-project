{
 "cells": [
  {
   "cell_type": "code",
   "execution_count": 3,
   "metadata": {},
   "outputs": [],
   "source": [
    "from langchain.memory import ConversationSummaryBufferMemory\n",
    "from langchain.chat_models import ChatOpenAI\n",
    "from langchain.prompts.few_shot import FewShotChatMessagePromptTemplate\n",
    "from langchain.schema.runnable import RunnablePassthrough\n",
    "from langchain.prompts import ChatPromptTemplate\n",
    "\n",
    "llm = ChatOpenAI(temperature=0.1)\n",
    "\n",
    "memory = ConversationSummaryBufferMemory(\n",
    "    llm=llm,\n",
    "    max_token_limit=120,\n",
    "    return_messages=True,\n",
    ")\n",
    "\n",
    "examples = [\n",
    "    {\n",
    "        \"movie_title\": \"The Lion King\",\n",
    "        \"answer\": \"🦁👑😭\",\n",
    "    },\n",
    "    {\n",
    "        \"movie_title\": \"Pirates of the Caribbean\",\n",
    "        \"answer\": \"🏴‍☠️🚣‍♂️💎\",\n",
    "    },\n",
    "    {\n",
    "        \"movie_title\": \"Frozen\",\n",
    "        \"answer\": \"❄️👸🎶\",\n",
    "    },\n",
    "    {\n",
    "        \"movie_title\": \"Jurassic Park\",\n",
    "        \"answer\": \"🦖🌴🏃‍♂️\",\n",
    "    },\n",
    "    {\n",
    "        \"movie_title\": \"The Matrix\",\n",
    "        \"answer\": \"🕶️💻🐇\",\n",
    "    },\n",
    "]\n",
    "\n",
    "\n",
    "example_prompt = ChatPromptTemplate.from_messages(\n",
    "    [\n",
    "        (\"human\", \"By this movie title {movie_title}, could you respond me the three characters of emoju that can represent this movie?\"),\n",
    "        (\"ai\", \"{answer}\"),\n",
    "    ]\n",
    ")\n",
    "\n",
    "example_prompt = FewShotChatMessagePromptTemplate(\n",
    "    example_prompt=example_prompt,\n",
    "    examples=examples,\n",
    ")\n",
    "\n",
    "final_prompt = ChatPromptTemplate.from_messages(\n",
    "    [\n",
    "        (\"system\", \"Response should be ONLY three emojis.\"),\n",
    "        example_prompt,\n",
    "        (\"human\", \"By this movie title {movie_title}, could you respond me the three characters of emoju that can represent this movie?\"),\n",
    "    ]\n",
    ")\n",
    "\n",
    "def load_memory(_):\n",
    "    return memory.load_memory_variables({})[\"history\"]\n",
    "\n",
    "def get_last_movie_title():\n",
    "    history = memory.load_memory_variables({})\n",
    "    if history:\n",
    "        last_interaction = history[-1]\n",
    "        movie_title = last_interaction.get('input', 'No movie title in memory.')\n",
    "        return movie_title\n",
    "    else:\n",
    "        return \"No memory of any movie titles.\"\n",
    "\n",
    "def query_memory_for_movie():\n",
    "    last_movie_title = get_last_movie_title()\n",
    "    print(f\"The last movie title asked about was: {last_movie_title}\")\n",
    "\n",
    "\n",
    "\n",
    "chain = RunnablePassthrough.assign(history=load_memory) | final_prompt | llm\n",
    "\n",
    "\n",
    "def invoke_chain(movie_title):\n",
    "    result = chain.invoke({\"movie_title\": movie_title})\n",
    "    memory.save_context(\n",
    "        {\"input\": movie_title},\n",
    "        {\"output\": result.content},\n",
    "    )\n",
    "    print(result.content)"
   ]
  },
  {
   "cell_type": "code",
   "execution_count": 4,
   "metadata": {},
   "outputs": [
    {
     "name": "stdout",
     "output_type": "stream",
     "text": [
      "👨‍👧🔫🇮🇹\n"
     ]
    }
   ],
   "source": [
    "invoke_chain(\"The Godfather\")"
   ]
  },
  {
   "cell_type": "code",
   "execution_count": 22,
   "metadata": {},
   "outputs": [
    {
     "name": "stdout",
     "output_type": "stream",
     "text": [
      "⏳🔄🔫\n"
     ]
    }
   ],
   "source": [
    "invoke_chain(\"Tenet\")"
   ]
  },
  {
   "cell_type": "code",
   "execution_count": null,
   "metadata": {},
   "outputs": [],
   "source": [
    "query_memory_for_movie()"
   ]
  }
 ],
 "metadata": {
  "kernelspec": {
   "display_name": "env",
   "language": "python",
   "name": "python3"
  },
  "language_info": {
   "codemirror_mode": {
    "name": "ipython",
    "version": 3
   },
   "file_extension": ".py",
   "mimetype": "text/x-python",
   "name": "python",
   "nbconvert_exporter": "python",
   "pygments_lexer": "ipython3",
   "version": "3.11.4"
  }
 },
 "nbformat": 4,
 "nbformat_minor": 2
}
