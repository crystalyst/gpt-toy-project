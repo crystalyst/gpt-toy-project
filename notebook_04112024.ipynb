{
 "cells": [
  {
   "cell_type": "code",
   "execution_count": null,
   "metadata": {},
   "outputs": [],
   "source": [
    "import wikipediaapi\n",
    "import requests\n",
    "from bs4 import BeautifulSoup\n",
    "import os\n",
    "\n",
    "# Initialize Wikipedia API\n",
    "wiki_wiki = wikipediaapi.Wikipedia('en')\n",
    "\n",
    "def search_wikipedia(query):\n",
    "    page = wiki_wiki.page(query)\n",
    "    return page.text if page.exists() else None\n",
    "\n",
    "def search_duckduckgo(query):\n",
    "    \"\"\"This is a simplified version of what could be a more complex search.\"\"\"\n",
    "    # Normally you would use an API or a web scraping method tailored to DuckDuckGo, but for simplicity:\n",
    "    url = f\"https://duckduckgo.com/?q={query.replace(' ', '+')}&format=json\"\n",
    "    return url  # Returns a DuckDuckGo search URL (Hypothetical usage)\n",
    "\n",
    "def scrape_website(url):\n",
    "    try:\n",
    "        response = requests.get(url)\n",
    "        soup = BeautifulSoup(response.content, 'html.parser')\n",
    "        return soup.get_text()\n",
    "    except Exception as e:\n",
    "        return str(e)\n",
    "\n",
    "def save_to_file(data, filename):\n",
    "    with open(filename, 'w', encoding='utf-8') as file:\n",
    "        file.write(data)\n",
    "\n",
    "def research_agent(query):\n",
    "    # Try Wikipedia first\n",
    "    result = search_wikipedia(query)\n",
    "    if result:\n",
    "        print(\"Found in Wikipedia.\")\n",
    "    else:\n",
    "        print(\"Not found in Wikipedia. Trying DuckDuckGo...\")\n",
    "        duck_url = search_duckduckgo(query)\n",
    "        result = scrape_website(duck_url)\n",
    "        print(\"Data scraped from the web.\")\n",
    "\n",
    "    # Save results to a text file\n",
    "    save_to_file(result, f\"{query}.txt\")\n",
    "    print(\"Data saved to file.\")\n",
    "\n",
    "# Run the agent with a specific query\n",
    "research_agent(\"Research about the XZ backdoor\")\n"
   ]
  }
 ],
 "metadata": {
  "language_info": {
   "name": "python"
  }
 },
 "nbformat": 4,
 "nbformat_minor": 2
}
